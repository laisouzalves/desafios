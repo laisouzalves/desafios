{
 "cells": [
  {
   "cell_type": "markdown",
   "metadata": {},
   "source": [
    "# Desafios idwall\n",
    "\n",
    "\n",
    "## Resolução do Desafio 1 - Strings\n",
    "\n",
    "#### Desafio Parte 1:\n",
    "Implementar uma função que recebe um texto qualquer e um limite de caracteres por linha (máximo 40). As palavras não devem ser quebradas no meio.\n",
    "\n",
    "#### Desafio Parte 2:\n",
    "O texto deve estar justificado."
   ]
  },
  {
   "cell_type": "markdown",
   "metadata": {},
   "source": [
    "## Resolução - Parte 1.a:\n",
    "\n",
    "Vamos começar analisando as características de um texto:"
   ]
  },
  {
   "cell_type": "code",
   "execution_count": 1,
   "metadata": {},
   "outputs": [
    {
     "name": "stdout",
     "output_type": "stream",
     "text": [
      "In the beginning God created the heavens and the earth. Now the earth was formless and empty, darkness was over the surface of the deep, and the Spirit of God was hovering over the waters. And God said, 'Let there be light', and there was light. God saw that the light was good, and he separated the light from the darkness. God called the light 'day', and the darkness he called 'night'. And there was evening, and there was morning - the first day.\n",
      "450\n",
      "\n",
      "['In', 'the', 'beginning', 'God', 'created', 'the', 'heavens', 'and', 'the', 'earth.', 'Now', 'the', 'earth', 'was', 'formless', 'and', 'empty,', 'darkness', 'was', 'over', 'the', 'surface', 'of', 'the', 'deep,', 'and', 'the', 'Spirit', 'of', 'God', 'was', 'hovering', 'over', 'the', 'waters.', 'And', 'God', 'said,', \"'Let\", 'there', 'be', \"light',\", 'and', 'there', 'was', 'light.', 'God', 'saw', 'that', 'the', 'light', 'was', 'good,', 'and', 'he', 'separated', 'the', 'light', 'from', 'the', 'darkness.', 'God', 'called', 'the', 'light', \"'day',\", 'and', 'the', 'darkness', 'he', 'called', \"'night'.\", 'And', 'there', 'was', 'evening,', 'and', 'there', 'was', 'morning', '-', 'the', 'first', 'day.']\n"
     ]
    }
   ],
   "source": [
    "texto_exemplo = \"In the beginning God created the heavens and the earth. Now the earth was formless and empty, darkness was over the surface of the deep, and the Spirit of God was hovering over the waters. And God said, 'Let there be light', and there was light. God saw that the light was good, and he separated the light from the darkness. God called the light 'day', and the darkness he called 'night'. And there was evening, and there was morning - the first day.\"\n",
    "print(texto_exemplo)\n",
    "print(len(texto_exemplo))\n",
    "print()\n",
    "\n",
    "# A primeira ideia que surge é a de separar o texto, obtendo uma lista com as palavras e pontuações\n",
    "texto_sem_espaço = texto_exemplo.split(' ')\n",
    "print(texto_sem_espaço)"
   ]
  },
  {
   "cell_type": "code",
   "execution_count": 2,
   "metadata": {},
   "outputs": [
    {
     "name": "stdout",
     "output_type": "stream",
     "text": [
      "In the beginning God created the heavens\n",
      "and the earth. Now the earth was formle\n"
     ]
    }
   ],
   "source": [
    "# Uma primeira forma de se separar as linhas, é utilizando o acesso por meio do 'index'\n",
    "primeira_linha = texto_exemplo[0:40]\n",
    "print(primeira_linha)\n",
    "\n",
    "# Mas isso pode quebrar palavras no meio em linhas futuras:\n",
    "segunda_linha = texto_exemplo[41:80]\n",
    "print(segunda_linha)"
   ]
  },
  {
   "cell_type": "code",
   "execution_count": 3,
   "metadata": {},
   "outputs": [
    {
     "name": "stdout",
     "output_type": "stream",
     "text": [
      "In the beginning God created the heavens\n",
      " and the earth. Now the earth was formle\n",
      "ss and empty, darkness was over the surf\n",
      "ace of the deep, and the Spirit of God w\n",
      "as hovering over the waters. And God sai\n",
      "d, 'Let there be light', and there was l\n",
      "ight. God saw that the light was good, a\n",
      "nd he separated the light from the darkn\n",
      "ess. God called the light 'day', and the\n",
      " darkness he called 'night'. And there w\n",
      "as evening, and there was morning - the \n",
      "first day.\n"
     ]
    }
   ],
   "source": [
    "# Caso a proposta fosse apenas de separar em linhas contendo 40 caracteres cada, bastaria fazer:\n",
    "for i in range(0, len(texto_exemplo), 40):\n",
    "    print(texto_exemplo[i:i+40])"
   ]
  },
  {
   "cell_type": "code",
   "execution_count": 4,
   "metadata": {},
   "outputs": [
    {
     "name": "stdout",
     "output_type": "stream",
     "text": [
      "In the beginning God created the heavens\n",
      "and the earth. Now the earth was\n",
      "formless and empty, darkness was over\n",
      "the surface of the deep, and the Spirit\n",
      "of God was hovering over the waters. And\n",
      "God said, 'Let there be light', and\n",
      "there was light. God saw that the light\n",
      "was good, and he separated the light\n",
      "from the darkness. God called the light\n",
      "'day', and the darkness he called\n",
      "'night'. And there was evening, and\n",
      "there was morning - the first day.\n"
     ]
    }
   ],
   "source": [
    "# Como evitar a quebra das palavras, então? Utilizando if/else statements no loop:\n",
    "output = texto_sem_espaço[0]\n",
    "for i in range(1, len(texto_sem_espaço)):\n",
    "    teste = output + ' ' + texto_sem_espaço[i]\n",
    "    if len(teste) > 40:\n",
    "        print(output)\n",
    "        output = texto_sem_espaço[i]\n",
    "    else:\n",
    "        output += ' ' + texto_sem_espaço[i]\n",
    "        if i == len(texto_sem_espaço)-1:\n",
    "            print(output)"
   ]
  },
  {
   "cell_type": "code",
   "execution_count": 5,
   "metadata": {},
   "outputs": [
    {
     "name": "stdout",
     "output_type": "stream",
     "text": [
      "40\n"
     ]
    }
   ],
   "source": [
    "# Só para confirmar se o código funcionou corretamente, \n",
    "# verifica-se o comprimento da linha onde ocorreria uma quebra de parágrafo:\n",
    "teste = 'of God was hovering over the waters. And'\n",
    "print(len(teste))"
   ]
  },
  {
   "cell_type": "code",
   "execution_count": 6,
   "metadata": {},
   "outputs": [
    {
     "name": "stdout",
     "output_type": "stream",
     "text": [
      "In the beginning God created the heavens and the earth. Now the earth was formless and empty, darkness was over the surface of the deep, and the Spirit of God was hovering over the waters. \n",
      "And God said, 'Let there be light', and there was light. God saw that the light was good, and he separated the light from the darkness. God called the light 'day', and the darkness he called 'night'. And there was evening, and there was morning - the first day.\n",
      "\n",
      "['In', 'the', 'beginning', 'God', 'created', 'the', 'heavens', 'and', 'the', 'earth.', 'Now', 'the', 'earth', 'was', 'formless', 'and', 'empty,', 'darkness', 'was', 'over', 'the', 'surface', 'of', 'the', 'deep,', 'and', 'the', 'Spirit', 'of', 'God', 'was', 'hovering', 'over', 'the', 'waters.', '\\nAnd', 'God', 'said,', \"'Let\", 'there', 'be', \"light',\", 'and', 'there', 'was', 'light.', 'God', 'saw', 'that', 'the', 'light', 'was', 'good,', 'and', 'he', 'separated', 'the', 'light', 'from', 'the', 'darkness.', 'God', 'called', 'the', 'light', \"'day',\", 'and', 'the', 'darkness', 'he', 'called', \"'night'.\", 'And', 'there', 'was', 'evening,', 'and', 'there', 'was', 'morning', '-', 'the', 'first', 'day.']\n"
     ]
    }
   ],
   "source": [
    "# No caso de um texto com quebra de parágrafo, também é possível inserir este caso no código:\n",
    "texto_exemplo = \"In the beginning God created the heavens and the earth. Now the earth was formless and empty, darkness was over the surface of the deep, and the Spirit of God was hovering over the waters. \\nAnd God said, 'Let there be light', and there was light. God saw that the light was good, and he separated the light from the darkness. God called the light 'day', and the darkness he called 'night'. And there was evening, and there was morning - the first day.\"\n",
    "print(texto_exemplo)\n",
    "print()\n",
    "\n",
    "texto_sem_espaço = texto_exemplo.split(' ')\n",
    "print(texto_sem_espaço)"
   ]
  },
  {
   "cell_type": "code",
   "execution_count": 7,
   "metadata": {},
   "outputs": [
    {
     "name": "stdout",
     "output_type": "stream",
     "text": [
      "In the beginning God created the heavens\n",
      "and the earth. Now the earth was\n",
      "formless and empty, darkness was over\n",
      "the surface of the deep, and the Spirit\n",
      "of God was hovering over the waters.\n",
      "\n",
      "And God said, 'Let there be light', and\n",
      "there was light. God saw that the light\n",
      "was good, and he separated the light\n",
      "from the darkness. God called the light\n",
      "'day', and the darkness he called\n",
      "'night'. And there was evening, and\n",
      "there was morning - the first day.\n"
     ]
    }
   ],
   "source": [
    "output = texto_sem_espaço[0]\n",
    "for i in range(1, len(texto_sem_espaço)):\n",
    "    teste = output + ' ' + texto_sem_espaço[i]\n",
    "    if len(teste) > 40:\n",
    "        print(output)\n",
    "        output = texto_sem_espaço[i]\n",
    "    else:\n",
    "        output += ' ' + texto_sem_espaço[i]\n",
    "        if i == len(texto_sem_espaço)-1:\n",
    "            print(output)"
   ]
  },
  {
   "cell_type": "markdown",
   "metadata": {},
   "source": [
    "## Resolução - Parte 1.b:\n",
    "\n",
    "Agora vamos criar uma função com o intuito de facilitar o uso do código e também para inserir um parâmetro de controle do limite de caracteres por linha.\n",
    "\n",
    "Começando pela função:"
   ]
  },
  {
   "cell_type": "code",
   "execution_count": 8,
   "metadata": {},
   "outputs": [],
   "source": [
    "def formatador(texto, caracteres=40):\n",
    "    # Esta é uma função que recebe um texto em formato str e um número limite de caracteres por linha\n",
    "    # e retorna um texto formatado sob este limite.\n",
    "    texto_sem_espaço = texto.split(' ')\n",
    "    output = texto_sem_espaço[0]\n",
    "    for i in range(1, len(texto_sem_espaço)):\n",
    "        teste = output + ' ' + texto_sem_espaço[i]\n",
    "        if len(teste) > caracteres:\n",
    "            print(output)\n",
    "            output = texto_sem_espaço[i]\n",
    "        else:\n",
    "            output += ' ' + texto_sem_espaço[i]\n",
    "            if i == len(texto_sem_espaço)-1:\n",
    "                print(output)"
   ]
  },
  {
   "cell_type": "code",
   "execution_count": 9,
   "metadata": {},
   "outputs": [
    {
     "name": "stdout",
     "output_type": "stream",
     "text": [
      "In the beginning God created the heavens\n",
      "and the earth. Now the earth was\n",
      "formless and empty, darkness was over\n",
      "the surface of the deep, and the Spirit\n",
      "of God was hovering over the waters.\n",
      "\n",
      "And God said, 'Let there be light', and\n",
      "there was light. God saw that the light\n",
      "was good, and he separated the light\n",
      "from the darkness. God called the light\n",
      "'day', and the darkness he called\n",
      "'night'. And there was evening, and\n",
      "there was morning - the first day.\n"
     ]
    }
   ],
   "source": [
    "# Testando a função criada anteriormente:\n",
    "formatador(texto_exemplo)"
   ]
  },
  {
   "cell_type": "markdown",
   "metadata": {},
   "source": [
    "Nesse caso acima, ele satisfaz o output desejado, mas existe um \"bug\", que pode ocorrer em textos que possuem o caractere '\\n'. Vejamos o caso em que o número de caracteres máximo é menor:"
   ]
  },
  {
   "cell_type": "code",
   "execution_count": 10,
   "metadata": {},
   "outputs": [
    {
     "name": "stdout",
     "output_type": "stream",
     "text": [
      "In the beginning God created\n",
      "the heavens and the earth. Now\n",
      "the earth was formless and\n",
      "empty, darkness was over the\n",
      "surface of the deep, and the\n",
      "Spirit of God was hovering\n",
      "over the waters. \n",
      "And God\n",
      "said, 'Let there be light',\n",
      "and there was light. God saw\n",
      "that the light was good, and\n",
      "he separated the light from\n",
      "the darkness. God called the\n",
      "light 'day', and the darkness\n",
      "he called 'night'. And there\n",
      "was evening, and there was\n",
      "morning - the first day.\n"
     ]
    }
   ],
   "source": [
    "formatador(texto_exemplo, 30)"
   ]
  },
  {
   "cell_type": "markdown",
   "metadata": {},
   "source": [
    "No caso acima, a \"palavra\" que possui '\\n', no caso '\\nAnd', é contabilizada normalmente, mas em python isso faz com que os caracteres após \\n sejam impressos na linha seguinte. Para corrigir isto, podemos inserir uma condição 'or' na primeira condicional 'if':"
   ]
  },
  {
   "cell_type": "code",
   "execution_count": 11,
   "metadata": {},
   "outputs": [
    {
     "name": "stdout",
     "output_type": "stream",
     "text": [
      "In the beginning God created\n",
      "the heavens and the earth. Now\n",
      "the earth was formless and\n",
      "empty, darkness was over the\n",
      "surface of the deep, and the\n",
      "Spirit of God was hovering\n",
      "over the waters.\n",
      "\n",
      "And God said, 'Let there be\n",
      "light', and there was light.\n",
      "God saw that the light was\n",
      "good, and he separated the\n",
      "light from the darkness. God\n",
      "called the light 'day', and\n",
      "the darkness he called\n",
      "'night'. And there was\n",
      "evening, and there was morning\n",
      "- the first day.\n"
     ]
    }
   ],
   "source": [
    "def formatador(texto, caracteres=40):\n",
    "    # Esta é uma função que recebe um texto em formato str e um número limite de caracteres por linha\n",
    "    # e retorna um texto formatado sob este limite.\n",
    "    texto_sem_espaço = texto.split(' ')\n",
    "    output = texto_sem_espaço[0]\n",
    "    for i in range(1, len(texto_sem_espaço)):\n",
    "        teste = output + ' ' + texto_sem_espaço[i]\n",
    "        if len(teste) > caracteres or texto_sem_espaço[i][0] == '\\n': # quando a palavra tiver \\n, independente se a linha não atingiu 40 caracteres, o código imprime a linha sem essa palavra.\n",
    "            print(output)\n",
    "            output = texto_sem_espaço[i]\n",
    "        else:\n",
    "            output += ' ' + texto_sem_espaço[i]\n",
    "            if i == len(texto_sem_espaço)-1:\n",
    "                print(output)\n",
    "\n",
    "formatador(texto_exemplo, 30)"
   ]
  },
  {
   "cell_type": "markdown",
   "metadata": {},
   "source": [
    "Tudo certo aqui! Vamos então para a segunda parte do problema.\n",
    "\n",
    "## Resolução - Parte 2:\n",
    "Neste caso busca-se um texto justificado. Um texto justificado é aquele em que, basicamente, as palavras se encontram distribuidas igualmente ao longo de uma linha de tamanho determinado. Para que um texto justificado seja visualmente bonito, uma forma é inserindo espaços entre as palavras de forma mais homogênea possível. "
   ]
  },
  {
   "cell_type": "code",
   "execution_count": 12,
   "metadata": {},
   "outputs": [
    {
     "name": "stdout",
     "output_type": "stream",
     "text": [
      "In the beginning God created the heavens and the earth. Now the earth was formless and empty, darkness was over the surface of the deep, and the Spirit of God was hovering over the waters. \n",
      "And God said, 'Let there be light', and there was light. God saw that the light was good, and he separated the light from the darkness. God called the light 'day', and the darkness he called 'night'. And there was evening, and there was morning - the first day.\n",
      "\n",
      "['In', 'the', 'beginning', 'God', 'created', 'the', 'heavens', 'and', 'the', 'earth.', 'Now', 'the', 'earth', 'was', 'formless', 'and', 'empty,', 'darkness', 'was', 'over', 'the', 'surface', 'of', 'the', 'deep,', 'and', 'the', 'Spirit', 'of', 'God', 'was', 'hovering', 'over', 'the', 'waters.', '\\nAnd', 'God', 'said,', \"'Let\", 'there', 'be', \"light',\", 'and', 'there', 'was', 'light.', 'God', 'saw', 'that', 'the', 'light', 'was', 'good,', 'and', 'he', 'separated', 'the', 'light', 'from', 'the', 'darkness.', 'God', 'called', 'the', 'light', \"'day',\", 'and', 'the', 'darkness', 'he', 'called', \"'night'.\", 'And', 'there', 'was', 'evening,', 'and', 'there', 'was', 'morning', '-', 'the', 'first', 'day.']\n",
      "\n",
      "In the beginning God created the heavens\n",
      "and the earth. Now the earth was\n",
      "formless and empty, darkness was over\n",
      "the surface of the deep, and the Spirit\n",
      "of God was hovering over the waters.\n",
      "\n",
      "And God said, 'Let there be light', and\n",
      "there was light. God saw that the light\n",
      "was good, and he separated the light\n",
      "from the darkness. God called the light\n",
      "'day', and the darkness he called\n",
      "'night'. And there was evening, and\n",
      "there was morning - the first day.\n",
      "\n",
      "Numero de espacos por linha:  [0, 8, 3, 1, 3, 0, 1, 4, 1, 7, 5, 6]\n"
     ]
    }
   ],
   "source": [
    "# Primeiro vamos analisar quantos espaços restantes (até o limite de carcteres por linha) temos em cada linha:\n",
    "\n",
    "texto_exemplo = \"In the beginning God created the heavens and the earth. Now the earth was formless and empty, darkness was over the surface of the deep, and the Spirit of God was hovering over the waters. \\nAnd God said, 'Let there be light', and there was light. God saw that the light was good, and he separated the light from the darkness. God called the light 'day', and the darkness he called 'night'. And there was evening, and there was morning - the first day.\"\n",
    "print(texto_exemplo)\n",
    "print()\n",
    "\n",
    "texto_sem_espaço = texto_exemplo.split(' ')\n",
    "print(texto_sem_espaço)\n",
    "print()\n",
    "\n",
    "def formatador_justificado(texto, caracteres=40):\n",
    "    # Esta é uma função que recebe um texto em formato str e um número limite de caracteres por linha\n",
    "    # e retorna um texto justificado sob este limite.\n",
    "    texto_sem_espaço = texto.split(' ')\n",
    "    output = texto_sem_espaço[0]\n",
    "    espacos = []\n",
    "    for i in range(1, len(texto_sem_espaço)):\n",
    "        teste = output + ' ' + texto_sem_espaço[i]\n",
    "        if len(teste) > caracteres or texto_sem_espaço[i][0] == '\\n': # quando a palavra tiver \\n, independente se a linha não atingiu 40 caracteres, o código imprime a linha sem essa palavra.\n",
    "            if texto_sem_espaço[i][0] == '\\n':\n",
    "                n_espacos = caracteres - len(output) - 1\n",
    "                espacos.append(n_espacos)\n",
    "                print(output)\n",
    "                output = texto_sem_espaço[i]\n",
    "            else:\n",
    "                n_espacos = caracteres - len(output)\n",
    "                espacos.append(n_espacos)\n",
    "                print(output)\n",
    "                output = texto_sem_espaço[i]\n",
    "        else:\n",
    "            output += ' ' + texto_sem_espaço[i]\n",
    "            if i == len(texto_sem_espaço)-1:\n",
    "                n_espacos = caracteres - len(output)\n",
    "                espacos.append(n_espacos)\n",
    "                print(output)\n",
    "    print()\n",
    "    print(\"Numero de espacos por linha: \", espacos)\n",
    "\n",
    "formatador_justificado(texto_exemplo)"
   ]
  },
  {
   "cell_type": "code",
   "execution_count": 18,
   "metadata": {},
   "outputs": [
    {
     "name": "stdout",
     "output_type": "stream",
     "text": [
      "Comprimento da linha:[ and the earth. Now the earth was ] é de 32 caracteres\n",
      "\n",
      "['and', 'the', 'earth.', 'Now', 'the', 'earth', 'was']\n",
      "['and ', 'the', 'earth.', 'Now', 'the', 'earth', 'was']\n"
     ]
    }
   ],
   "source": [
    "linha = \"and the earth. Now the earth was\"\n",
    "print(\"Comprimento da linha:[\", linha, \"] é de {} caracteres\".format(len(linha)))\n",
    "print()\n",
    "\n",
    "# É possível adicionar espaços em cada elemento da lista 'palavras'\n",
    "palavras = linha.split(' ')\n",
    "print(palavras)\n",
    "palavras[0] += ' '\n",
    "print(palavras)"
   ]
  },
  {
   "cell_type": "code",
   "execution_count": 20,
   "metadata": {},
   "outputs": [
    {
     "name": "stdout",
     "output_type": "stream",
     "text": [
      "and the earth. Now the earth was\n",
      "\n",
      "Tentativa 1:  and  the earth. Now the earth was\n",
      "Tentativa 2:  and  the  earth. Now the earth was\n",
      "Tentativa 3:  and  the  earth.  Now the earth was\n",
      "Tentativa 4:  and  the  earth.  Now  the earth was\n",
      "Tentativa 5:  and  the  earth.  Now  the  earth was\n",
      "Tentativa 6:  and   the  earth.  Now  the  earth was\n",
      "Tentativa 7:  and   the   earth.  Now  the  earth was\n",
      "Tentativa 8:  and   the   earth.   Now  the  earth was\n",
      "Comprimento da frase final:  40\n"
     ]
    }
   ],
   "source": [
    "# Podemos criar um loop que adiciona espaços, em uma palavra de cada vez, até que se obtenha o tamanho desejado\n",
    "palavras = linha.split(' ')\n",
    "frase = ' '.join(palavras)\n",
    "print(frase)\n",
    "print()\n",
    "\n",
    "caracteres = 40\n",
    "i, j = 0, 0\n",
    "while len(frase) < caracteres:\n",
    "    palavras[i] += ' '\n",
    "    i += 1\n",
    "    frase = ' '.join(palavras)\n",
    "    j += 1\n",
    "    print(\"Tentativa {}: \".format(j), frase)\n",
    "    if i == len(palavras) - 2:\n",
    "        i = 0\n",
    "\n",
    "print(\"Comprimento da frase final: \", len(frase))"
   ]
  },
  {
   "cell_type": "code",
   "execution_count": 21,
   "metadata": {},
   "outputs": [],
   "source": [
    "# Assim, vamos criar uma segunda função que justifica uma frase\n",
    "\n",
    "def justificador(frase, caracteres=40):\n",
    "    # Esta função recebe uma frase em formato 'str', transforma em lista e, através de um loop,\n",
    "    # retorna uma frase justificada sob o limite 'caracteres'. Caso não seja dado\n",
    "    # o parâmetro 'caracteres', seu valor padrão é de 40 caracteres por linha.\n",
    "    \n",
    "    lista_palavras = frase.split(' ')\n",
    "    linha = ' '.join(lista_palavras)\n",
    "    i = 0\n",
    "    while len(linha) < caracteres:\n",
    "        lista_palavras[i] += ' '\n",
    "        i += 1\n",
    "        linha = ' '.join(lista_palavras)\n",
    "        if i == len(lista_palavras) - 2:\n",
    "            i = 0\n",
    "    \n",
    "    return linha"
   ]
  },
  {
   "cell_type": "code",
   "execution_count": 22,
   "metadata": {},
   "outputs": [
    {
     "name": "stdout",
     "output_type": "stream",
     "text": [
      "and   the   earth.   Now  the  earth was\n"
     ]
    }
   ],
   "source": [
    "linha_exemplo = \"and the earth. Now the earth was\"\n",
    "linha_exemplo_justificada = justificador(linha_exemplo)\n",
    "print(linha_exemplo_justificada)"
   ]
  },
  {
   "cell_type": "code",
   "execution_count": 24,
   "metadata": {},
   "outputs": [
    {
     "name": "stdout",
     "output_type": "stream",
     "text": [
      "In the beginning God created the heavens\n",
      "and   the   earth.   Now  the  earth was\n",
      "formless  and  empty,  darkness was over\n",
      "the  surface of the deep, and the Spirit\n",
      "of  God  was  hovering  over the waters.\n",
      "\n",
      "And God said, 'Let there be light', and\n",
      "there  was light. God saw that the light\n",
      "was  good,  and  he  separated the light\n",
      "from  the darkness. God called the light\n",
      "'day',   and   the   darkness  he called\n",
      "'night'.   And  there  was  evening, and\n",
      "there   was  morning  -  the  first day.\n"
     ]
    }
   ],
   "source": [
    "# Por fim, vamos inserir a função criada anteriormente na função 'formatador', modificando seu nome para 'formatador_justificado':\n",
    "\n",
    "def formatador_justificado(texto, caracteres=40):\n",
    "    # Esta é uma função que recebe um texto em formato str e um número limite de caracteres por linha\n",
    "    # e retorna um texto formatado sob este limite.\n",
    "    # Esta função chama outra função externa \"justificador()\"\n",
    "    limite = caracteres\n",
    "    texto_sem_espaço = texto.split(' ')\n",
    "    output = texto_sem_espaço[0]\n",
    "    for i in range(1, len(texto_sem_espaço)):\n",
    "        teste = output + ' ' + texto_sem_espaço[i]\n",
    "        if len(teste) > caracteres or texto_sem_espaço[i][0] == '\\n': # quando a palavra tiver \\n, independente se a linha não atingiu 40 caracteres, o código imprime a linha sem essa palavra.\n",
    "            output = justificador(output,limite)\n",
    "            print(output)\n",
    "            output = texto_sem_espaço[i]\n",
    "        else:\n",
    "            output += ' ' + texto_sem_espaço[i]\n",
    "            if i == len(texto_sem_espaço)-1:\n",
    "                output = justificador(output,limite)\n",
    "                print(output)\n",
    "\n",
    "formatador_justificado(texto_exemplo, 40)"
   ]
  },
  {
   "cell_type": "code",
   "execution_count": null,
   "metadata": {},
   "outputs": [],
   "source": []
  }
 ],
 "metadata": {
  "kernelspec": {
   "display_name": "Python 3",
   "language": "python",
   "name": "python3"
  },
  "language_info": {
   "codemirror_mode": {
    "name": "ipython",
    "version": 3
   },
   "file_extension": ".py",
   "mimetype": "text/x-python",
   "name": "python",
   "nbconvert_exporter": "python",
   "pygments_lexer": "ipython3",
   "version": "3.7.3"
  }
 },
 "nbformat": 4,
 "nbformat_minor": 2
}
